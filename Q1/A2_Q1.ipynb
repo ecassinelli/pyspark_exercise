{
  "nbformat": 4,
  "nbformat_minor": 0,
  "metadata": {
    "colab": {
      "name": "A2-Q1.ipynb",
      "provenance": []
    },
    "kernelspec": {
      "name": "python3",
      "display_name": "Python 3",
      "language": "python"
    }
  },
  "cells": [
    {
      "source": [
        "# Installing necessary dependencies"
      ],
      "cell_type": "markdown",
      "metadata": {}
    },
    {
      "cell_type": "code",
      "metadata": {
        "id": "4lnqHU_QpoAj",
        "colab_type": "code",
        "colab": {}
      },
      "source": [
        "!apt-get install openjdk-8-jdk-headless -qq > /dev/null\n",
        "!wget -q http://apache.mirror.rafal.ca/spark/spark-2.4.5/spark-2.4.5-bin-hadoop2.7.tgz\n",
        "!tar xf spark-2.4.5-bin-hadoop2.7.tgz\n",
        "!pip install -q findspark"
      ],
      "execution_count": 0,
      "outputs": []
    },
    {
      "cell_type": "markdown",
      "metadata": {
        "id": "eV2FrazNqMMe",
        "colab_type": "text"
      },
      "source": [
        "# Find Spark and import necessary modules"
      ]
    },
    {
      "cell_type": "code",
      "metadata": {
        "id": "eSau0pghp-vP",
        "colab_type": "code",
        "colab": {}
      },
      "source": [
        "import os\n",
        "import findspark\n",
        "os.environ[\"JAVA_HOME\"] = \"/usr/lib/jvm/java-8-openjdk-amd64\"\n",
        "os.environ[\"SPARK_HOME\"] = \"/content/spark-2.4.5-bin-hadoop2.7\"\n",
        "findspark.init()\n",
        "\n",
        "\n",
        "from pyspark.sql import SparkSession\n",
        "spark = SparkSession.builder.master(\"local[*]\").getOrCreate()\n",
        "from pyspark.sql import SQLContext\n",
        "from pyspark.sql import functions as f\n",
        "from pyspark import SparkConf\n",
        "\n",
        "\n",
        "sqlContext = SQLContext(spark)"
      ],
      "execution_count": 0,
      "outputs": []
    },
    {
      "cell_type": "markdown",
      "metadata": {
        "id": "2AnrdMvpqaox",
        "colab_type": "text"
      },
      "source": [
        "# Creating the DataFrame for the white house data set"
      ]
    },
    {
      "cell_type": "code",
      "metadata": {
        "id": "hISQHfauqInJ",
        "colab_type": "code",
        "colab": {}
      },
      "source": [
        " wh_df = spark.read.csv('./100000_White_House_Visitor_Records_Requests.csv.gz', inferSchema=True, header=True)"
      ],
      "execution_count": 0,
      "outputs": []
    },
    {
      "cell_type": "markdown",
      "metadata": {
        "id": "-fc69BlYrU3t",
        "colab_type": "text"
      },
      "source": [
        "# Q1A"
      ]
    },
    {
      "cell_type": "code",
      "metadata": {
        "id": "vH6Qf-OsrZ8i",
        "colab_type": "code",
        "colab": {}
      },
      "source": [
        "df_1A = wh_df.groupBy('NAMELAST', 'NAMEFIRST', 'NAMEMID').count().orderBy('count', ascending=False)"
      ],
      "execution_count": 0,
      "outputs": []
    },
    {
      "cell_type": "code",
      "metadata": {
        "id": "x52QqWy_rb0e",
        "colab_type": "code",
        "outputId": "a38e5b2d-8810-48e0-e6dc-78377c4f0465",
        "colab": {
          "base_uri": "https://localhost:8080/",
          "height": 238
        }
      },
      "source": [
        "q1A_answer = df_1A.take(5)\n",
        "\n",
        "print('Q1A: 5 most frequent visitors')\n",
        "print()\n",
        "df_1A.show(5)"
      ],
      "execution_count": 6,
      "outputs": [
        {
          "output_type": "stream",
          "text": [
            "Q1A: 5 most frequent visitors\n",
            "\n",
            "+--------+---------+-------+-----+\n",
            "|NAMELAST|NAMEFIRST|NAMEMID|count|\n",
            "+--------+---------+-------+-----+\n",
            "|  DEMEKE|    MARIA|   null|   41|\n",
            "| NEUFELD|     ADAM|   null|   36|\n",
            "|     KIM|      HUN|      S|   30|\n",
            "|   MILBY|    SARAH|   null|   25|\n",
            "|  WIDGER|      ANN|   null|   25|\n",
            "+--------+---------+-------+-----+\n",
            "only showing top 5 rows\n",
            "\n"
          ],
          "name": "stdout"
        }
      ]
    },
    {
      "cell_type": "markdown",
      "metadata": {
        "id": "xaG6T0PIs-w2",
        "colab_type": "text"
      },
      "source": [
        "# Q1B"
      ]
    },
    {
      "cell_type": "code",
      "metadata": {
        "id": "FnU2On2dtBBh",
        "colab_type": "code",
        "outputId": "3d5e36c2-cb20-4dd0-a97a-ec3527bb1f6d",
        "colab": {
          "base_uri": "https://localhost:8080/",
          "height": 731
        }
      },
      "source": [
        "print('Q1B: Most visited person by each of the 5 most frequent visitors')\n",
        "print()\n",
        "for visitor_person in q1A_answer:\n",
        "  print('Most visited person by', visitor_person.NAMELAST, visitor_person.NAMEFIRST)\n",
        "  wh_df.filter((f.col('NAMELAST') == visitor_person.NAMELAST) & (f.col('NAMEFIRST') == visitor_person.NAMEFIRST)).groupBy('visitee_namelast', 'visitee_namefirst').count().orderBy('count', ascending=False).show(1)"
      ],
      "execution_count": 7,
      "outputs": [
        {
          "output_type": "stream",
          "text": [
            "Q1B: Most visited person by each of the 5 most frequent visitors\n",
            "\n",
            "Most visited person by DEMEKE MARIA\n",
            "+----------------+-----------------+-----+\n",
            "|visitee_namelast|visitee_namefirst|count|\n",
            "+----------------+-----------------+-----+\n",
            "|          BUSSOW|             MARK|   21|\n",
            "+----------------+-----------------+-----+\n",
            "only showing top 1 row\n",
            "\n",
            "Most visited person by NEUFELD ADAM\n",
            "+----------------+-----------------+-----+\n",
            "|visitee_namelast|visitee_namefirst|count|\n",
            "+----------------+-----------------+-----+\n",
            "|          BUSSOW|             MARK|   14|\n",
            "+----------------+-----------------+-----+\n",
            "only showing top 1 row\n",
            "\n",
            "Most visited person by KIM HUN\n",
            "+----------------+-----------------+-----+\n",
            "|visitee_namelast|visitee_namefirst|count|\n",
            "+----------------+-----------------+-----+\n",
            "|          KUNDRA|            VIVEK|   22|\n",
            "+----------------+-----------------+-----+\n",
            "only showing top 1 row\n",
            "\n",
            "Most visited person by WIDGER ANN\n",
            "+----------------+-----------------+-----+\n",
            "|visitee_namelast|visitee_namefirst|count|\n",
            "+----------------+-----------------+-----+\n",
            "|          WHITTY|          PATRICK|   10|\n",
            "+----------------+-----------------+-----+\n",
            "only showing top 1 row\n",
            "\n",
            "Most visited person by MILBY SARAH\n",
            "+----------------+-----------------+-----+\n",
            "|visitee_namelast|visitee_namefirst|count|\n",
            "+----------------+-----------------+-----+\n",
            "|          BUSSOW|             MARK|   11|\n",
            "+----------------+-----------------+-----+\n",
            "only showing top 1 row\n",
            "\n"
          ],
          "name": "stdout"
        }
      ]
    },
    {
      "cell_type": "markdown",
      "metadata": {
        "id": "w4zR6KOlJlxX",
        "colab_type": "text"
      },
      "source": [
        "# Q1C"
      ]
    },
    {
      "cell_type": "code",
      "metadata": {
        "id": "fQf5-EKjJqOm",
        "colab_type": "code",
        "colab": {}
      },
      "source": [
        "# It is necesary to change all the null cells, with string 'null' in order to use this DataFrame in the for loop of Q1D\n",
        "# if not the None values in the list q1C_answer will not match to the null cells in the filter function.\n",
        "filled_null_df = wh_df.na.fill('null')\n",
        "df_1C = filled_null_df.groupBy('visitee_namelast', 'visitee_namefirst').count().orderBy('count', ascending=False)"
      ],
      "execution_count": 0,
      "outputs": []
    },
    {
      "cell_type": "code",
      "metadata": {
        "id": "Sc7sMDdTKD1Z",
        "colab_type": "code",
        "outputId": "5ecafaca-bece-452b-d66b-aeed0d83f6db",
        "colab": {
          "base_uri": "https://localhost:8080/",
          "height": 272
        }
      },
      "source": [
        "q1C_answer = df_1C.take(6)\n",
        "\n",
        "print('Q1C: 5 most frequently visited people')\n",
        "print()\n",
        "df_1C.show(6)\n",
        "print('NOTE: We take 6 rows here, since the first two should belong to one visitee')"
      ],
      "execution_count": 10,
      "outputs": [
        {
          "output_type": "stream",
          "text": [
            "Q1C: 5 most frequently visited people\n",
            "\n",
            "+----------------+-----------------+-----+\n",
            "|visitee_namelast|visitee_namefirst|count|\n",
            "+----------------+-----------------+-----+\n",
            "|          OFFICE|         VISITORS|49717|\n",
            "|          OFFICE|        VISITORS |12063|\n",
            "|           POTUS|             null| 7381|\n",
            "|            COLO|          CATRINA| 1714|\n",
            "|            null|             null| 1688|\n",
            "|         DOEBLER|              MAX| 1552|\n",
            "+----------------+-----------------+-----+\n",
            "only showing top 6 rows\n",
            "\n",
            "NOTE: We take 6 rows here, since the first two should belong to one visitee\n"
          ],
          "name": "stdout"
        }
      ]
    },
    {
      "cell_type": "markdown",
      "metadata": {
        "id": "RXGVVOyjU12v",
        "colab_type": "text"
      },
      "source": [
        "# Q1D\n",
        "\n"
      ]
    },
    {
      "cell_type": "code",
      "metadata": {
        "id": "t3xpa4u-U2UK",
        "colab_type": "code",
        "outputId": "7ea06da7-1a42-4275-bdb3-01b9be754bd8",
        "colab": {
          "base_uri": "https://localhost:8080/",
          "height": 731
        }
      },
      "source": [
        "print('Q1D: Each person who visited the most each most visited people')\n",
        "print()\n",
        "for visitee_person in q1C_answer:\n",
        "  # Having checked before that the 'OFFICE' 'VISITORS ' with a space character does not have a person\n",
        "  # with the most visits to OFFICE, we skip this row and focus only on the first one.\n",
        "  if visitee_person.visitee_namefirst == 'VISITORS ':\n",
        "    continue\n",
        "  else:\n",
        "    print('Person who visited', visitee_person.visitee_namelast, visitee_person.visitee_namefirst, 'the most.')\n",
        "    filled_null_df.filter((f.col('visitee_namelast') == visitee_person.visitee_namelast) & (f.col('visitee_namefirst') == visitee_person.visitee_namefirst)).groupBy('NAMELAST', 'NAMEFIRST').count().orderBy('count', ascending=False).show(1)"
      ],
      "execution_count": 11,
      "outputs": [
        {
          "output_type": "stream",
          "text": [
            "Q1D: Each person who visited the most each most visited people\n",
            "\n",
            "Person who visited OFFICE VISITORS the most.\n",
            "+--------+---------+-----+\n",
            "|NAMELAST|NAMEFIRST|count|\n",
            "+--------+---------+-----+\n",
            "|  COOPER|  HEATHER|   10|\n",
            "+--------+---------+-----+\n",
            "only showing top 1 row\n",
            "\n",
            "Person who visited POTUS null the most.\n",
            "+--------+---------+-----+\n",
            "|NAMELAST|NAMEFIRST|count|\n",
            "+--------+---------+-----+\n",
            "|   REYES| CAROLINA|    6|\n",
            "+--------+---------+-----+\n",
            "only showing top 1 row\n",
            "\n",
            "Person who visited COLO CATRINA the most.\n",
            "+--------+---------+-----+\n",
            "|NAMELAST|NAMEFIRST|count|\n",
            "+--------+---------+-----+\n",
            "|   SMITH|   WALTER|    6|\n",
            "+--------+---------+-----+\n",
            "only showing top 1 row\n",
            "\n",
            "Person who visited null null the most.\n",
            "+---------+---------+-----+\n",
            "| NAMELAST|NAMEFIRST|count|\n",
            "+---------+---------+-----+\n",
            "|BAUSERMAN|  CAMERON|    4|\n",
            "+---------+---------+-----+\n",
            "only showing top 1 row\n",
            "\n",
            "Person who visited DOEBLER MAX the most.\n",
            "+--------+---------+-----+\n",
            "|NAMELAST|NAMEFIRST|count|\n",
            "+--------+---------+-----+\n",
            "|BOGUSLAW|   ROBERT|    7|\n",
            "+--------+---------+-----+\n",
            "only showing top 1 row\n",
            "\n"
          ],
          "name": "stdout"
        }
      ]
    },
    {
      "cell_type": "markdown",
      "metadata": {
        "id": "KB7oA6SdbH-F",
        "colab_type": "text"
      },
      "source": [
        "# Q1E"
      ]
    },
    {
      "cell_type": "code",
      "metadata": {
        "id": "2A1ZQi59YJyQ",
        "colab_type": "code",
        "outputId": "835061d2-3e5d-43e8-e0fb-96d19ead9d0e",
        "colab": {
          "base_uri": "https://localhost:8080/",
          "height": 306
        }
      },
      "source": [
        "print('Q1E: Most frquent visitor-visitee combinations')\n",
        "visitee_names = wh_df.groupBy('visitee_namelast','visitee_namefirst','NAMELAST','NAMEFIRST','NAMEMID').count().orderBy('count', ascending=False).show(10)"
      ],
      "execution_count": 12,
      "outputs": [
        {
          "output_type": "stream",
          "text": [
            "Q1E: Most frquent visitor-visitee combinations\n",
            "+----------------+-----------------+--------------+---------+-------+-----+\n",
            "|visitee_namelast|visitee_namefirst|      NAMELAST|NAMEFIRST|NAMEMID|count|\n",
            "+----------------+-----------------+--------------+---------+-------+-----+\n",
            "|          KUNDRA|            VIVEK|           KIM|      HUN|      S|   22|\n",
            "|          BUSSOW|             MARK|        DEMEKE|    MARIA|   null|   21|\n",
            "|          SAHENE|              JR.|         YODER|     RYAN|   null|   19|\n",
            "|          KUNDRA|            VIVEK|        HARDIE|     IRIS|      D|   18|\n",
            "|        WILLIAMS|            DEBRA|        DEMEKE|    MARIA|   null|   17|\n",
            "|          BUSSOW|             MARK|         MIRZA|     ASMA|   null|   16|\n",
            "|        WILLIAMS|            DEBRA|         MIRZA|     ASMA|      Y|   15|\n",
            "|           IRWIN|            JANET|      FONTAINE|  TIMOTHY|      E|   14|\n",
            "|            WARD|             POPE|         EVANS|    DAVID|      M|   14|\n",
            "|          FISCUS|           TAYLOR|LEITNERLASERNA|    SOFIA|      I|   13|\n",
            "+----------------+-----------------+--------------+---------+-------+-----+\n",
            "only showing top 10 rows\n",
            "\n"
          ],
          "name": "stdout"
        }
      ]
    }
  ]
}