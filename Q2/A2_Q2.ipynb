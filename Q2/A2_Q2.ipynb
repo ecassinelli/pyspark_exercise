{
  "nbformat": 4,
  "nbformat_minor": 0,
  "metadata": {
    "colab": {
      "name": "A2-Q2.ipynb",
      "provenance": [],
      "collapsed_sections": []
    },
    "kernelspec": {
      "name": "python3",
      "display_name": "Python 3"
    }
  },
  "cells": [
    {
      "cell_type": "markdown",
      "metadata": {
        "id": "-Jv-oKr-Fn5A",
        "colab_type": "text"
      },
      "source": [
        "# Installing the necessary dependencies"
      ]
    },
    {
      "cell_type": "code",
      "metadata": {
        "id": "_t2uqBc5fARl",
        "colab_type": "code",
        "colab": {}
      },
      "source": [
        "!apt-get install openjdk-8-jdk-headless -qq > /dev/null\n",
        "!wget -q http://apache.mirror.rafal.ca/spark/spark-2.4.5/spark-2.4.5-bin-hadoop2.7.tgz\n",
        "!tar xf spark-2.4.5-bin-hadoop2.7.tgz\n",
        "!pip install -q findspark"
      ],
      "execution_count": 0,
      "outputs": []
    },
    {
      "cell_type": "markdown",
      "metadata": {
        "id": "gi_SLVGNfZTu",
        "colab_type": "text"
      },
      "source": [
        "# Find Spark and import necessary modules"
      ]
    },
    {
      "cell_type": "code",
      "metadata": {
        "id": "lY4ce_O5fbRM",
        "colab_type": "code",
        "colab": {}
      },
      "source": [
        "import os\n",
        "import findspark\n",
        "os.environ[\"JAVA_HOME\"] = \"/usr/lib/jvm/java-8-openjdk-amd64\"\n",
        "os.environ[\"SPARK_HOME\"] = \"/content/spark-2.4.5-bin-hadoop2.7\"\n",
        "findspark.init()\n",
        "\n",
        "\n",
        "from pyspark.sql import SparkSession\n",
        "spark = SparkSession.builder.master(\"local[*]\").getOrCreate()\n",
        "from pyspark.sql import SQLContext\n",
        "from pyspark.sql import functions as f\n",
        "from pyspark.sql.types import IntegerType, StructType, StructField, StringType\n",
        "from pyspark import SparkConf\n",
        "\n",
        "\n",
        "sqlContext = SQLContext(spark)"
      ],
      "execution_count": 0,
      "outputs": []
    },
    {
      "cell_type": "markdown",
      "metadata": {
        "id": "dfM3xLcFfai1",
        "colab_type": "text"
      },
      "source": [
        "# Creating the DataFrames for the wikipedia data set"
      ]
    },
    {
      "cell_type": "code",
      "metadata": {
        "id": "jmr4HvdapMNa",
        "colab_type": "code",
        "colab": {}
      },
      "source": [
        "pages_rdd = spark.sparkContext.textFile('./titles-sorted.txt')\n",
        "# Creates an index for each title starting from 1\n",
        "pages_rdd = pages_rdd.zipWithIndex().map(lambda x: ((x[1] + 1), x[0]))\n",
        "# Creates the schema for the pages' DataFrame\n",
        "pages_df_schema = StructType([\n",
        "    StructField(\"Link\", IntegerType()),\n",
        "    StructField(\"Title\", StringType()),\n",
        "])\n",
        "# Creates de DataFrame for pages\n",
        "pages_df = spark.createDataFrame(pages_rdd, pages_df_schema)"
      ],
      "execution_count": 0,
      "outputs": []
    },
    {
      "cell_type": "code",
      "metadata": {
        "id": "MOOHAq3EfsoG",
        "colab_type": "code",
        "colab": {}
      },
      "source": [
        "links_df = spark.read.csv('./100000_links-simple-sorted.txt.gz', inferSchema=True, sep=':')\n",
        "# Renames the columns to 'From' for links, and 'To' for outlinks\n",
        "links_df = links_df.select(f.col('_c0').alias('From'), f.col('_c1').alias('To'))\n",
        "# Strip any lead or trace spaces in each column\n",
        "links_df = links_df.withColumn('From', f.ltrim(f.rtrim(links_df['From'])))\n",
        "links_df = links_df.withColumn('To', f.ltrim(f.rtrim(links_df['To']))) \n",
        "# Converts the column 'From' to integers\n",
        "links_df = links_df.withColumn('From', links_df.From.cast(IntegerType()))"
      ],
      "execution_count": 0,
      "outputs": []
    },
    {
      "cell_type": "markdown",
      "metadata": {
        "id": "hGCBAf9hNCOK",
        "colab_type": "text"
      },
      "source": [
        "# Q2A"
      ]
    },
    {
      "cell_type": "code",
      "metadata": {
        "id": "zlrAokZT6KiY",
        "colab_type": "code",
        "outputId": "02c2d954-1be1-453c-cef4-3b23aad7b0a4",
        "colab": {
          "base_uri": "https://localhost:8080/",
          "height": 476
        }
      },
      "source": [
        "# Joins the two dataframes based on the links that are present in pages_df\n",
        "# but are not present in the column 'From' of links_df\n",
        "print('Q2A: Pages with no Outlinks')\n",
        "no_outlnks = pages_df.join(links_df, pages_df.Link == links_df.From, how='left_anti')\n",
        "no_outlnks.show()"
      ],
      "execution_count": 0,
      "outputs": [
        {
          "output_type": "stream",
          "text": [
            "Q2A: Pages with no Outlinks\n",
            "+-----+--------------------+\n",
            "| Link|               Title|\n",
            "+-----+--------------------+\n",
            "|   21|      !?Revolution!?|\n",
            "| 3726|...And_Oceans_vs....|\n",
            "| 4401|        .458_Express|\n",
            "| 6054|                  0.|\n",
            "| 6072|           0.7_FILMS|\n",
            "| 6142|                 001|\n",
            "| 6786|  0_(disambiguation)|\n",
            "| 8949|100_Days_(1999_film)|\n",
            "| 9692|    102.5_The_Bridge|\n",
            "|12672|   110th_US_Congress|\n",
            "|15205|121st_Pennsylvani...|\n",
            "|19060|  13th_Finance_Group|\n",
            "|20915|14th_Bombardment_...|\n",
            "|26236|             1710_AM|\n",
            "|28202|           17_Relics|\n",
            "|38781|1931-32_Southern_...|\n",
            "|39187|1933_Baffin_Bay_e...|\n",
            "|41856|  1946–47_OHA_season|\n",
            "|58618|       1988_election|\n",
            "|59758|    1990_Kremlin_Cup|\n",
            "+-----+--------------------+\n",
            "only showing top 20 rows\n",
            "\n"
          ],
          "name": "stdout"
        }
      ]
    },
    {
      "cell_type": "markdown",
      "metadata": {
        "id": "asd8KcJM-uj5",
        "colab_type": "text"
      },
      "source": [
        "# Q2B"
      ]
    },
    {
      "cell_type": "code",
      "metadata": {
        "id": "UInguD3ZNJGG",
        "colab_type": "code",
        "colab": {}
      },
      "source": [
        "# Splits the values of the column 'To' of links_df into a list\n",
        "inlinks_df = links_df.select(f.col('From'), f.split(f.col('To'), ' ').alias('To'))\n",
        "# Explodes the column 'To' to get each value individually\n",
        "inlinks_df = inlinks_df.select(inlinks_df.From, f.explode(inlinks_df.To).alias('To'))\n",
        "# Converts the column 'From' to integers\n",
        "inlinks_df = inlinks_df.withColumn('To', inlinks_df.To.cast(IntegerType()))"
      ],
      "execution_count": 0,
      "outputs": []
    },
    {
      "cell_type": "code",
      "metadata": {
        "id": "IGH9vw3HWt9z",
        "colab_type": "code",
        "outputId": "7cccd11b-f82b-46f8-e90f-cd5e78322b9e",
        "colab": {
          "base_uri": "https://localhost:8080/",
          "height": 476
        }
      },
      "source": [
        "# Joins the two dataframes based on the links that are present in pages_df\n",
        "# but are not present in the column 'To' of inlinks_df\n",
        "print('Q2B: Pages with no Inlinks')\n",
        "no_inlinks = pages_df.join(inlinks_df, pages_df.Link == inlinks_df.To, how='left_anti')\n",
        "no_inlinks.show()"
      ],
      "execution_count": 0,
      "outputs": [
        {
          "output_type": "stream",
          "text": [
            "Q2B: Pages with no Inlinks\n",
            "+----+--------------------+\n",
            "|Link|               Title|\n",
            "+----+--------------------+\n",
            "|   1|                   !|\n",
            "|   4|                !!!!|\n",
            "|   6|!!!Fuck_You!!!_An...|\n",
            "|   7|!!!Fuck_You!!!_An...|\n",
            "|  10|          !!!_(band)|\n",
            "|  11|  !!Destroy-Oh-Boy!!|\n",
            "|  12|        !!Fuck_you!!|\n",
            "|  13|                 !!M|\n",
            "|  14|!!Que_Corra_La_Voz!!|\n",
            "|  15|          !!_(chess)|\n",
            "|  16|                 !!m|\n",
            "|  17| !'O-!khung_language|\n",
            "|  18|                  !=|\n",
            "|  19|                  !?|\n",
            "|  20|                 !?!|\n",
            "|  21|      !?Revolution!?|\n",
            "|  22|          !?_(chess)|\n",
            "|  23|          !A_Luchar!|\n",
            "|  24|       !Action_Pact!|\n",
            "|  25|      !Adios_Amigos!|\n",
            "+----+--------------------+\n",
            "only showing top 20 rows\n",
            "\n"
          ],
          "name": "stdout"
        }
      ]
    },
    {
      "cell_type": "markdown",
      "metadata": {
        "id": "Ipoha_QwrYQC",
        "colab_type": "text"
      },
      "source": [
        "# Q2C"
      ]
    },
    {
      "cell_type": "code",
      "metadata": {
        "id": "t4nziZE2YF00",
        "colab_type": "code",
        "outputId": "0d50d57a-5ca3-4ec2-d1a7-83f26f39fa05",
        "colab": {
          "base_uri": "https://localhost:8080/",
          "height": 476
        }
      },
      "source": [
        "# For this question, I defined popularity as the page with most inlinks\n",
        "# To get the most popular links, inlinks_df is grouped by the column 'To'\n",
        "# then a count operation is performed, and finally is ordered by this count\n",
        "# in descending order.\n",
        "print('Q2C: Most Popular Pages')\n",
        "popularity_df = inlinks_df.groupBy('To').count().orderBy('count', ascending=False)\n",
        "popularity_df.show()"
      ],
      "execution_count": 0,
      "outputs": [
        {
          "output_type": "stream",
          "text": [
            "Q2C: Most Popular Pages\n",
            "+-------+-----+\n",
            "|     To|count|\n",
            "+-------+-----+\n",
            "|  88822|10860|\n",
            "| 481424| 7132|\n",
            "|3766300| 6872|\n",
            "|5302153| 6680|\n",
            "|3283594| 6367|\n",
            "|2367662| 6225|\n",
            "|1613751| 6194|\n",
            "|3078798| 6070|\n",
            "|3294332| 6055|\n",
            "| 192438| 6006|\n",
            "|3766108| 5930|\n",
            "|3014548| 5844|\n",
            "|4080285| 5830|\n",
            "| 419148| 5769|\n",
            "|3766260| 5766|\n",
            "| 437972| 5690|\n",
            "|3047022| 5679|\n",
            "|4747397| 5640|\n",
            "|3391195| 5455|\n",
            "|3009165| 5015|\n",
            "+-------+-----+\n",
            "only showing top 20 rows\n",
            "\n"
          ],
          "name": "stdout"
        }
      ]
    }
  ]
}